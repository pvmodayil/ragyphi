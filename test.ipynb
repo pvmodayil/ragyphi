{
 "cells": [
  {
   "cell_type": "code",
   "execution_count": 1,
   "metadata": {},
   "outputs": [],
   "source": [
    "# Import necessary libraries\n",
    "from ragyphi import ragyphi as rp\n",
    "from ragyphi.ollama_chat import Chatbot"
   ]
  },
  {
   "cell_type": "code",
   "execution_count": null,
   "metadata": {},
   "outputs": [],
   "source": [
    "# Load data for processing\n",
    "data: rp.ExtractedData = rp.loadData()"
   ]
  },
  {
   "cell_type": "code",
   "execution_count": null,
   "metadata": {},
   "outputs": [],
   "source": [
    "# Initialize the local language model (LLM)\n",
    "local_llm = \"llama3.2:3b-instruct-fp16\" # If you like to use other models pull them with ollama pull first\n",
    "system_prompt = \"You are a helpful assistant capable of answering scientific questions.\"\n",
    "llm = Chatbot(local_llm=local_llm, system_prompt=system_prompt)"
   ]
  },
  {
   "cell_type": "code",
   "execution_count": null,
   "metadata": {},
   "outputs": [],
   "source": [
    "# Define your question and retrieve response using RAG pipeline\n",
    "question = \"your-question-here\"\n",
    "result: rp.LLMResponse = rp.rag(question, data, llm)"
   ]
  },
  {
   "cell_type": "code",
   "execution_count": null,
   "metadata": {},
   "outputs": [],
   "source": [
    "# Print the result and context for review\n",
    "print(\"Response:\", result.response)\n",
    "print(\"Context:\", result.context)"
   ]
  }
 ],
 "metadata": {
  "kernelspec": {
   "display_name": "RAG",
   "language": "python",
   "name": "python3"
  },
  "language_info": {
   "codemirror_mode": {
    "name": "ipython",
    "version": 3
   },
   "file_extension": ".py",
   "mimetype": "text/x-python",
   "name": "python",
   "nbconvert_exporter": "python",
   "pygments_lexer": "ipython3",
   "version": "3.12.8"
  }
 },
 "nbformat": 4,
 "nbformat_minor": 2
}
