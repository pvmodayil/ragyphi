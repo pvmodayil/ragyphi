{
 "cells": [
  {
   "cell_type": "code",
   "execution_count": 1,
   "metadata": {},
   "outputs": [],
   "source": [
    "# Import necessary libraries\n",
    "from ragyphi import ragyphi as rp\n",
    "from ragyphi.ollama_chat import Chatbot"
   ]
  },
  {
   "cell_type": "code",
   "execution_count": 2,
   "metadata": {},
   "outputs": [
    {
     "name": "stdout",
     "output_type": "stream",
     "text": [
      "Did not find file c:\\Users\\pvmod\\InformationProcessingLab\\03_Chatbot\\03_RAG_UV\\vector_store\\extracted_data.parquet/c:\\Users\\pvmod\\InformationProcessingLab\\03_Chatbot\\03_RAG_UV\\vector_store\\faiss_index.index.\n",
      "Processing your documents in data folder using processDocuments function\n",
      "Creating directory data.......\n",
      " Please include any documents that need to be extracted if they are not already provided.\n",
      "Supported document types:\n",
      "- PDF\n"
     ]
    },
    {
     "ename": "ModuleNotFoundError",
     "evalue": "No module named 'image_extractor'",
     "output_type": "error",
     "traceback": [
      "\u001b[1;31m---------------------------------------------------------------------------\u001b[0m",
      "\u001b[1;31mModuleNotFoundError\u001b[0m                       Traceback (most recent call last)",
      "Cell \u001b[1;32mIn[2], line 2\u001b[0m\n\u001b[0;32m      1\u001b[0m \u001b[38;5;66;03m# Load data for processing\u001b[39;00m\n\u001b[1;32m----> 2\u001b[0m data: rp\u001b[38;5;241m.\u001b[39mExtractedData \u001b[38;5;241m=\u001b[39m \u001b[43mrp\u001b[49m\u001b[38;5;241;43m.\u001b[39;49m\u001b[43mloadData\u001b[49m\u001b[43m(\u001b[49m\u001b[43m)\u001b[49m\n",
      "File \u001b[1;32mc:\\Users\\pvmod\\InformationProcessingLab\\03_Chatbot\\03_RAG_UV\\ragyphi\\ragyphi.py:76\u001b[0m, in \u001b[0;36mloadData\u001b[1;34m()\u001b[0m\n\u001b[0;32m     74\u001b[0m \u001b[38;5;66;03m# Import utils file\u001b[39;00m\n\u001b[0;32m     75\u001b[0m \u001b[38;5;28;01mfrom\u001b[39;00m\u001b[38;5;250m \u001b[39m\u001b[38;5;21;01m.\u001b[39;00m\u001b[38;5;21;01mdata_extractor\u001b[39;00m\u001b[38;5;250m \u001b[39m\u001b[38;5;28;01mimport\u001b[39;00m processDocuments \n\u001b[1;32m---> 76\u001b[0m \u001b[43mprocessDocuments\u001b[49m\u001b[43m(\u001b[49m\u001b[43m)\u001b[49m\n\u001b[0;32m     78\u001b[0m \u001b[38;5;66;03m# Trying to load data once more\u001b[39;00m\n\u001b[0;32m     79\u001b[0m faiss_index: faiss\u001b[38;5;241m.\u001b[39mIndexFlatL2 \u001b[38;5;241m=\u001b[39m faiss\u001b[38;5;241m.\u001b[39mread_index(vector_store_filename)\n",
      "File \u001b[1;32mc:\\Users\\pvmod\\InformationProcessingLab\\03_Chatbot\\03_RAG_UV\\ragyphi\\data_extractor.py:229\u001b[0m, in \u001b[0;36mprocessDocuments\u001b[1;34m(local_llm, local_vllm)\u001b[0m\n\u001b[0;32m    226\u001b[0m \u001b[38;5;66;03m# Extract information from pdf files\u001b[39;00m\n\u001b[0;32m    227\u001b[0m \u001b[38;5;66;03m###########################################\u001b[39;00m\n\u001b[0;32m    228\u001b[0m extracted_items: \u001b[38;5;28mlist\u001b[39m[ExtractedItems] \u001b[38;5;241m=\u001b[39m []\n\u001b[1;32m--> 229\u001b[0m extracted_items \u001b[38;5;241m=\u001b[39m \u001b[43mloadFilesAndExtract\u001b[49m\u001b[43m(\u001b[49m\u001b[43mbase_dir\u001b[49m\u001b[38;5;241;43m=\u001b[39;49m\u001b[43mbase_dir\u001b[49m\u001b[43m,\u001b[49m\n\u001b[0;32m    230\u001b[0m \u001b[43m                                      \u001b[49m\u001b[43mextracted_items\u001b[49m\u001b[38;5;241;43m=\u001b[39;49m\u001b[43mextracted_items\u001b[49m\u001b[43m,\u001b[49m\n\u001b[0;32m    231\u001b[0m \u001b[43m                                      \u001b[49m\u001b[43mlocal_llm\u001b[49m\u001b[38;5;241;43m=\u001b[39;49m\u001b[43mlocal_llm\u001b[49m\u001b[43m,\u001b[49m\n\u001b[0;32m    232\u001b[0m \u001b[43m                                      \u001b[49m\u001b[43mlocal_vllm\u001b[49m\u001b[38;5;241;43m=\u001b[39;49m\u001b[43mlocal_vllm\u001b[49m\u001b[43m)\u001b[49m\n\u001b[0;32m    234\u001b[0m \u001b[38;5;66;03m# Convert to dataframe\u001b[39;00m\n\u001b[0;32m    235\u001b[0m \u001b[38;5;66;03m###########################################\u001b[39;00m\n\u001b[0;32m    236\u001b[0m extracted_data_df: pd\u001b[38;5;241m.\u001b[39mDataFrame \u001b[38;5;241m=\u001b[39m convertExtractedItemsToDF(extracted_items)\n",
      "File \u001b[1;32mc:\\Users\\pvmod\\InformationProcessingLab\\03_Chatbot\\03_RAG_UV\\ragyphi\\data_extractor.py:73\u001b[0m, in \u001b[0;36mloadFilesAndExtract\u001b[1;34m(base_dir, extracted_items, local_llm, local_vllm)\u001b[0m\n\u001b[0;32m     50\u001b[0m \u001b[38;5;28;01mdef\u001b[39;00m\u001b[38;5;250m \u001b[39m\u001b[38;5;21mloadFilesAndExtract\u001b[39m(base_dir: \u001b[38;5;28mstr\u001b[39m, \n\u001b[0;32m     51\u001b[0m                       extracted_items: \u001b[38;5;28mlist\u001b[39m[ExtractedItems], \n\u001b[0;32m     52\u001b[0m                       local_llm: \u001b[38;5;28mstr\u001b[39m,\n\u001b[0;32m     53\u001b[0m                       local_vllm: \u001b[38;5;28mstr\u001b[39m) \u001b[38;5;241m-\u001b[39m\u001b[38;5;241m>\u001b[39m \u001b[38;5;28mlist\u001b[39m[ExtractedItems]:\n\u001b[0;32m     54\u001b[0m \u001b[38;5;250m    \u001b[39m\u001b[38;5;124;03m\"\"\"\u001b[39;00m\n\u001b[0;32m     55\u001b[0m \u001b[38;5;124;03m    Load the file types within the given base_dir path and extract data from them\u001b[39;00m\n\u001b[0;32m     56\u001b[0m \n\u001b[1;32m   (...)\u001b[0m\n\u001b[0;32m     71\u001b[0m \u001b[38;5;124;03m        extracted data\u001b[39;00m\n\u001b[0;32m     72\u001b[0m \u001b[38;5;124;03m    \"\"\"\u001b[39;00m\n\u001b[1;32m---> 73\u001b[0m     \u001b[38;5;28;01mfrom\u001b[39;00m\u001b[38;5;250m \u001b[39m\u001b[38;5;21;01m.\u001b[39;00m\u001b[38;5;21;01mpdf_extractor\u001b[39;00m\u001b[38;5;250m \u001b[39m\u001b[38;5;28;01mimport\u001b[39;00m processPDF\n\u001b[0;32m     75\u001b[0m     \u001b[38;5;28;01mfor\u001b[39;00m file \u001b[38;5;129;01min\u001b[39;00m os\u001b[38;5;241m.\u001b[39mlistdir(base_dir):\n\u001b[0;32m     76\u001b[0m         \u001b[38;5;28;01mif\u001b[39;00m file\u001b[38;5;241m.\u001b[39mendswith(\u001b[38;5;124m'\u001b[39m\u001b[38;5;124m.pdf\u001b[39m\u001b[38;5;124m'\u001b[39m):\n",
      "File \u001b[1;32mc:\\Users\\pvmod\\InformationProcessingLab\\03_Chatbot\\03_RAG_UV\\ragyphi\\pdf_extractor.py:23\u001b[0m\n\u001b[0;32m     20\u001b[0m \u001b[38;5;28;01mfrom\u001b[39;00m\u001b[38;5;250m \u001b[39m\u001b[38;5;21;01mtqdm\u001b[39;00m\u001b[38;5;250m \u001b[39m\u001b[38;5;28;01mimport\u001b[39;00m tqdm\n\u001b[0;32m     22\u001b[0m \u001b[38;5;66;03m# own files\u001b[39;00m\n\u001b[1;32m---> 23\u001b[0m \u001b[38;5;28;01mimport\u001b[39;00m\u001b[38;5;250m \u001b[39m\u001b[38;5;21;01mimage_extractor\u001b[39;00m\n\u001b[0;32m     25\u001b[0m \u001b[38;5;66;03m# Typing\u001b[39;00m\n\u001b[0;32m     26\u001b[0m \u001b[38;5;28;01mfrom\u001b[39;00m\u001b[38;5;250m \u001b[39m\u001b[38;5;21;01m.\u001b[39;00m\u001b[38;5;21;01m_types\u001b[39;00m\u001b[38;5;250m \u001b[39m\u001b[38;5;28;01mimport\u001b[39;00m ExtractedItems\n",
      "\u001b[1;31mModuleNotFoundError\u001b[0m: No module named 'image_extractor'"
     ]
    }
   ],
   "source": [
    "# Load data for processing\n",
    "data: rp.ExtractedData = rp.loadData()"
   ]
  },
  {
   "cell_type": "code",
   "execution_count": null,
   "metadata": {},
   "outputs": [],
   "source": [
    "# Initialize the local language model (LLM)\n",
    "local_llm = \"llama3.2:3b-instruct-fp16\" # If you like to use other models pull them with ollama pull first\n",
    "system_prompt = \"You are a helpful assistant capable of answering scientific questions.\"\n",
    "llm = Chatbot(local_llm=local_llm, system_prompt=system_prompt)"
   ]
  },
  {
   "cell_type": "code",
   "execution_count": null,
   "metadata": {},
   "outputs": [],
   "source": [
    "# Define your question and retrieve response using RAG pipeline\n",
    "question = \"your-question-here\"\n",
    "result: rp.LLMResponse = rp.rag(question, data, llm)"
   ]
  },
  {
   "cell_type": "code",
   "execution_count": null,
   "metadata": {},
   "outputs": [],
   "source": [
    "# Print the result and context for review\n",
    "print(\"Response:\", result.response)\n",
    "print(\"Context:\", result.context)"
   ]
  }
 ],
 "metadata": {
  "kernelspec": {
   "display_name": "RAG",
   "language": "python",
   "name": "python3"
  },
  "language_info": {
   "codemirror_mode": {
    "name": "ipython",
    "version": 3
   },
   "file_extension": ".py",
   "mimetype": "text/x-python",
   "name": "python",
   "nbconvert_exporter": "python",
   "pygments_lexer": "ipython3",
   "version": "3.12.8"
  }
 },
 "nbformat": 4,
 "nbformat_minor": 2
}
