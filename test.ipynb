{
 "cells": [
  {
   "cell_type": "code",
   "execution_count": 1,
   "metadata": {},
   "outputs": [],
   "source": [
    "# Import necessary libraries\n",
    "from ragyphi import ragyphi as rp\n",
    "from ragyphi.ollama_chat import Chatbot"
   ]
  },
  {
   "cell_type": "code",
   "execution_count": 2,
   "metadata": {},
   "outputs": [
    {
     "name": "stdout",
     "output_type": "stream",
     "text": [
      "Did not find file c:\\Users\\pvmod\\InformationProcessingLab\\03_Chatbot\\03_RAG_UV\\vector_store\\extracted_data.parquet/c:\\Users\\pvmod\\InformationProcessingLab\\03_Chatbot\\03_RAG_UV\\vector_store\\faiss_index.index.\n",
      "Processing your documents in data folder using processDocuments function\n"
     ]
    },
    {
     "ename": "ModuleNotFoundError",
     "evalue": "No module named '_types'",
     "output_type": "error",
     "traceback": [
      "\u001b[1;31m---------------------------------------------------------------------------\u001b[0m",
      "\u001b[1;31mModuleNotFoundError\u001b[0m                       Traceback (most recent call last)",
      "Cell \u001b[1;32mIn[2], line 2\u001b[0m\n\u001b[0;32m      1\u001b[0m \u001b[38;5;66;03m# Load data for processing\u001b[39;00m\n\u001b[1;32m----> 2\u001b[0m data: rp\u001b[38;5;241m.\u001b[39mExtractedData \u001b[38;5;241m=\u001b[39m \u001b[43mrp\u001b[49m\u001b[38;5;241;43m.\u001b[39;49m\u001b[43mloadData\u001b[49m\u001b[43m(\u001b[49m\u001b[43m)\u001b[49m\n",
      "File \u001b[1;32mc:\\Users\\pvmod\\InformationProcessingLab\\03_Chatbot\\03_RAG_UV\\ragyphi\\ragyphi.py:75\u001b[0m, in \u001b[0;36mloadData\u001b[1;34m()\u001b[0m\n\u001b[0;32m     73\u001b[0m \u001b[38;5;28mprint\u001b[39m(\u001b[38;5;124mf\u001b[39m\u001b[38;5;124m\"\u001b[39m\u001b[38;5;124mDid not find file \u001b[39m\u001b[38;5;132;01m{\u001b[39;00mextracted_data_filename\u001b[38;5;132;01m}\u001b[39;00m\u001b[38;5;124m/\u001b[39m\u001b[38;5;132;01m{\u001b[39;00mvector_store_filename\u001b[38;5;132;01m}\u001b[39;00m\u001b[38;5;124m.\u001b[39m\u001b[38;5;130;01m\\n\u001b[39;00m\u001b[38;5;124mProcessing your documents in data folder using processDocuments function\u001b[39m\u001b[38;5;124m\"\u001b[39m)\n\u001b[0;32m     74\u001b[0m \u001b[38;5;66;03m# Import utils file\u001b[39;00m\n\u001b[1;32m---> 75\u001b[0m \u001b[38;5;28;01mfrom\u001b[39;00m\u001b[38;5;250m \u001b[39m\u001b[38;5;21;01m.\u001b[39;00m\u001b[38;5;21;01mdata_extractor\u001b[39;00m\u001b[38;5;250m \u001b[39m\u001b[38;5;28;01mimport\u001b[39;00m processDocuments \n\u001b[0;32m     76\u001b[0m processDocuments()\n\u001b[0;32m     78\u001b[0m \u001b[38;5;66;03m# Trying to load data once more\u001b[39;00m\n",
      "File \u001b[1;32mc:\\Users\\pvmod\\InformationProcessingLab\\03_Chatbot\\03_RAG_UV\\ragyphi\\data_extractor.py:24\u001b[0m\n\u001b[0;32m     21\u001b[0m \u001b[38;5;28;01mfrom\u001b[39;00m\u001b[38;5;250m \u001b[39m\u001b[38;5;21;01mlangchain_huggingface\u001b[39;00m\u001b[38;5;250m \u001b[39m\u001b[38;5;28;01mimport\u001b[39;00m HuggingFaceEmbeddings\n\u001b[0;32m     23\u001b[0m \u001b[38;5;66;03m# Typing\u001b[39;00m\n\u001b[1;32m---> 24\u001b[0m \u001b[38;5;28;01mfrom\u001b[39;00m\u001b[38;5;250m \u001b[39m\u001b[38;5;21;01m_types\u001b[39;00m\u001b[38;5;250m \u001b[39m\u001b[38;5;28;01mimport\u001b[39;00m ExtractedItems\n\u001b[0;32m     26\u001b[0m \u001b[38;5;66;03m#####################################################################################\u001b[39;00m\n\u001b[0;32m     27\u001b[0m \u001b[38;5;66;03m#                                    Functions\u001b[39;00m\n\u001b[0;32m     28\u001b[0m \u001b[38;5;66;03m#####################################################################################\u001b[39;00m\n\u001b[0;32m     29\u001b[0m \u001b[38;5;66;03m# Create the directories\u001b[39;00m\n\u001b[0;32m     30\u001b[0m \u001b[38;5;28;01mdef\u001b[39;00m\u001b[38;5;250m \u001b[39m\u001b[38;5;21mcreate_directories\u001b[39m(base_dir: \u001b[38;5;28mstr\u001b[39m) \u001b[38;5;241m-\u001b[39m\u001b[38;5;241m>\u001b[39m \u001b[38;5;28;01mNone\u001b[39;00m:\n",
      "\u001b[1;31mModuleNotFoundError\u001b[0m: No module named '_types'"
     ]
    }
   ],
   "source": [
    "# Load data for processing\n",
    "data: rp.ExtractedData = rp.loadData()"
   ]
  },
  {
   "cell_type": "code",
   "execution_count": null,
   "metadata": {},
   "outputs": [],
   "source": [
    "# Initialize the local language model (LLM)\n",
    "local_llm = \"llama3.2:3b-instruct-fp16\" # If you like to use other models pull them with ollama pull first\n",
    "system_prompt = \"You are a helpful assistant capable of answering scientific questions.\"\n",
    "llm = Chatbot(local_llm=local_llm, system_prompt=system_prompt)"
   ]
  },
  {
   "cell_type": "code",
   "execution_count": null,
   "metadata": {},
   "outputs": [],
   "source": [
    "# Define your question and retrieve response using RAG pipeline\n",
    "question = \"your-question-here\"\n",
    "result: rp.LLMResponse = rp.rag(question, data, llm)"
   ]
  },
  {
   "cell_type": "code",
   "execution_count": null,
   "metadata": {},
   "outputs": [],
   "source": [
    "# Print the result and context for review\n",
    "print(\"Response:\", result.response)\n",
    "print(\"Context:\", result.context)"
   ]
  }
 ],
 "metadata": {
  "kernelspec": {
   "display_name": "RAG",
   "language": "python",
   "name": "python3"
  },
  "language_info": {
   "codemirror_mode": {
    "name": "ipython",
    "version": 3
   },
   "file_extension": ".py",
   "mimetype": "text/x-python",
   "name": "python",
   "nbconvert_exporter": "python",
   "pygments_lexer": "ipython3",
   "version": "3.12.8"
  }
 },
 "nbformat": 4,
 "nbformat_minor": 2
}
