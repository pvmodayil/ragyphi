{
 "cells": [
  {
   "cell_type": "markdown",
   "metadata": {},
   "source": [
    "## Test Ragyphi"
   ]
  },
  {
   "cell_type": "code",
   "execution_count": null,
   "metadata": {},
   "outputs": [],
   "source": [
    "# Import necessary libraries\n",
    "from ragyphi import ragyphi as rp\n",
    "from langchain_community.chat_models import ChatOllama\n",
    "\n",
    "# Initialize the local language model (LLM)\n",
    "local_llm = \"llama3.2:3b-instruct-fp16\"\n",
    "llm = ChatOllama(model=local_llm, temperature=0)\n",
    "\n",
    "# Load data for processing\n",
    "data = rp.loadData()"
   ]
  },
  {
   "cell_type": "code",
   "execution_count": null,
   "metadata": {},
   "outputs": [],
   "source": [
    "# Define your question and retrieve response using RAG pipeline\n",
    "question = \"your-question-here\"\n",
    "result = rp.rag(question, data, llm)\n",
    "\n",
    "# Print the result and context for review\n",
    "print(\"Response:\", result.response)\n",
    "print(\"Context:\", result.context)"
   ]
  }
 ],
 "metadata": {
  "kernelspec": {
   "display_name": ".venv",
   "language": "python",
   "name": "python3"
  },
  "language_info": {
   "name": "python",
   "version": "3.12.7"
  }
 },
 "nbformat": 4,
 "nbformat_minor": 2
}
