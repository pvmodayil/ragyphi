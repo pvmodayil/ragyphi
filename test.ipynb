{
 "cells": [
  {
   "cell_type": "code",
   "execution_count": 1,
   "metadata": {},
   "outputs": [],
   "source": [
    "# Import necessary libraries\n",
    "from ragyphi import ragyphi as rp\n",
    "from ragyphi.ollama_chat import Chatbot"
   ]
  },
  {
   "cell_type": "code",
   "execution_count": 2,
   "metadata": {},
   "outputs": [
    {
     "name": "stdout",
     "output_type": "stream",
     "text": [
      "Did not find file c:\\Users\\pvmod\\InformationProcessingLab\\03_Chatbot\\03_RAG_UV\\vector_store\\extracted_data.parquet/c:\\Users\\pvmod\\InformationProcessingLab\\03_Chatbot\\03_RAG_UV\\vector_store\\faiss_index.index.\n",
      "Processing your documents in data folder using processDocuments function\n",
      "Creating directory data.......\n",
      " Please include any documents that need to be extracted if they are not already provided.\n",
      "Supported document types:\n",
      "- PDF\n"
     ]
    },
    {
     "name": "stderr",
     "output_type": "stream",
     "text": [
      "Processing c:\\Users\\pvmod\\InformationProcessingLab\\03_Chatbot\\03_RAG_UV\\data\\APEMC2025_Final_2025-01-07.pdf pages:   0%|          | 0/4 [00:55<?, ?it/s]"
     ]
    },
    {
     "name": "stdout",
     "output_type": "stream",
     "text": [
      "image type: <class 'pdfplumber.display.PageImage'>\n"
     ]
    },
    {
     "name": "stderr",
     "output_type": "stream",
     "text": [
      "\n"
     ]
    },
    {
     "ename": "AttributeError",
     "evalue": "'PageImage' object has no attribute 'resize'",
     "output_type": "error",
     "traceback": [
      "\u001b[1;31m---------------------------------------------------------------------------\u001b[0m",
      "\u001b[1;31mAttributeError\u001b[0m                            Traceback (most recent call last)",
      "Cell \u001b[1;32mIn[2], line 2\u001b[0m\n\u001b[0;32m      1\u001b[0m \u001b[38;5;66;03m# Load data for processing\u001b[39;00m\n\u001b[1;32m----> 2\u001b[0m data: rp\u001b[38;5;241m.\u001b[39mExtractedData \u001b[38;5;241m=\u001b[39m \u001b[43mrp\u001b[49m\u001b[38;5;241;43m.\u001b[39;49m\u001b[43mloadData\u001b[49m\u001b[43m(\u001b[49m\u001b[43m)\u001b[49m\n",
      "File \u001b[1;32mc:\\Users\\pvmod\\InformationProcessingLab\\03_Chatbot\\03_RAG_UV\\ragyphi\\ragyphi.py:76\u001b[0m, in \u001b[0;36mloadData\u001b[1;34m()\u001b[0m\n\u001b[0;32m     74\u001b[0m \u001b[38;5;66;03m# Import utils file\u001b[39;00m\n\u001b[0;32m     75\u001b[0m \u001b[38;5;28;01mfrom\u001b[39;00m\u001b[38;5;250m \u001b[39m\u001b[38;5;21;01m.\u001b[39;00m\u001b[38;5;21;01mdata_extractor\u001b[39;00m\u001b[38;5;250m \u001b[39m\u001b[38;5;28;01mimport\u001b[39;00m processDocuments \n\u001b[1;32m---> 76\u001b[0m \u001b[43mprocessDocuments\u001b[49m\u001b[43m(\u001b[49m\u001b[43m)\u001b[49m\n\u001b[0;32m     78\u001b[0m \u001b[38;5;66;03m# Trying to load data once more\u001b[39;00m\n\u001b[0;32m     79\u001b[0m faiss_index: faiss\u001b[38;5;241m.\u001b[39mIndexFlatL2 \u001b[38;5;241m=\u001b[39m faiss\u001b[38;5;241m.\u001b[39mread_index(vector_store_filename)\n",
      "File \u001b[1;32mc:\\Users\\pvmod\\InformationProcessingLab\\03_Chatbot\\03_RAG_UV\\ragyphi\\data_extractor.py:229\u001b[0m, in \u001b[0;36mprocessDocuments\u001b[1;34m(local_llm, local_vllm)\u001b[0m\n\u001b[0;32m    226\u001b[0m \u001b[38;5;66;03m# Extract information from pdf files\u001b[39;00m\n\u001b[0;32m    227\u001b[0m \u001b[38;5;66;03m###########################################\u001b[39;00m\n\u001b[0;32m    228\u001b[0m extracted_items: \u001b[38;5;28mlist\u001b[39m[ExtractedItems] \u001b[38;5;241m=\u001b[39m []\n\u001b[1;32m--> 229\u001b[0m extracted_items \u001b[38;5;241m=\u001b[39m \u001b[43mloadFilesAndExtract\u001b[49m\u001b[43m(\u001b[49m\u001b[43mbase_dir\u001b[49m\u001b[38;5;241;43m=\u001b[39;49m\u001b[43mbase_dir\u001b[49m\u001b[43m,\u001b[49m\n\u001b[0;32m    230\u001b[0m \u001b[43m                                      \u001b[49m\u001b[43mextracted_items\u001b[49m\u001b[38;5;241;43m=\u001b[39;49m\u001b[43mextracted_items\u001b[49m\u001b[43m,\u001b[49m\n\u001b[0;32m    231\u001b[0m \u001b[43m                                      \u001b[49m\u001b[43mlocal_llm\u001b[49m\u001b[38;5;241;43m=\u001b[39;49m\u001b[43mlocal_llm\u001b[49m\u001b[43m,\u001b[49m\n\u001b[0;32m    232\u001b[0m \u001b[43m                                      \u001b[49m\u001b[43mlocal_vllm\u001b[49m\u001b[38;5;241;43m=\u001b[39;49m\u001b[43mlocal_vllm\u001b[49m\u001b[43m)\u001b[49m\n\u001b[0;32m    234\u001b[0m \u001b[38;5;66;03m# Convert to dataframe\u001b[39;00m\n\u001b[0;32m    235\u001b[0m \u001b[38;5;66;03m###########################################\u001b[39;00m\n\u001b[0;32m    236\u001b[0m extracted_data_df: pd\u001b[38;5;241m.\u001b[39mDataFrame \u001b[38;5;241m=\u001b[39m convertExtractedItemsToDF(extracted_items)\n",
      "File \u001b[1;32mc:\\Users\\pvmod\\InformationProcessingLab\\03_Chatbot\\03_RAG_UV\\ragyphi\\data_extractor.py:78\u001b[0m, in \u001b[0;36mloadFilesAndExtract\u001b[1;34m(base_dir, extracted_items, local_llm, local_vllm)\u001b[0m\n\u001b[0;32m     76\u001b[0m     \u001b[38;5;28;01mif\u001b[39;00m file\u001b[38;5;241m.\u001b[39mendswith(\u001b[38;5;124m'\u001b[39m\u001b[38;5;124m.pdf\u001b[39m\u001b[38;5;124m'\u001b[39m):\n\u001b[0;32m     77\u001b[0m         pdf_path: \u001b[38;5;28mstr\u001b[39m \u001b[38;5;241m=\u001b[39m os\u001b[38;5;241m.\u001b[39mpath\u001b[38;5;241m.\u001b[39mjoin(base_dir, file)\n\u001b[1;32m---> 78\u001b[0m         extracted_items \u001b[38;5;241m=\u001b[39m \u001b[43mprocessPDF\u001b[49m\u001b[43m(\u001b[49m\u001b[43mbase_dir\u001b[49m\u001b[38;5;241;43m=\u001b[39;49m\u001b[43mbase_dir\u001b[49m\u001b[43m,\u001b[49m\n\u001b[0;32m     79\u001b[0m \u001b[43m                                     \u001b[49m\u001b[43mpdf_path\u001b[49m\u001b[38;5;241;43m=\u001b[39;49m\u001b[43mpdf_path\u001b[49m\u001b[43m,\u001b[49m\n\u001b[0;32m     80\u001b[0m \u001b[43m                                     \u001b[49m\u001b[43mextracted_items\u001b[49m\u001b[38;5;241;43m=\u001b[39;49m\u001b[43mextracted_items\u001b[49m\u001b[43m,\u001b[49m\n\u001b[0;32m     81\u001b[0m \u001b[43m                                     \u001b[49m\u001b[43mlocal_llm\u001b[49m\u001b[38;5;241;43m=\u001b[39;49m\u001b[43mlocal_llm\u001b[49m\u001b[43m,\u001b[49m\n\u001b[0;32m     82\u001b[0m \u001b[43m                                     \u001b[49m\u001b[43mlocal_vllm\u001b[49m\u001b[38;5;241;43m=\u001b[39;49m\u001b[43mlocal_vllm\u001b[49m\u001b[43m)\u001b[49m      \n\u001b[0;32m     84\u001b[0m \u001b[38;5;28;01mreturn\u001b[39;00m extracted_items\n",
      "File \u001b[1;32mc:\\Users\\pvmod\\InformationProcessingLab\\03_Chatbot\\03_RAG_UV\\ragyphi\\pdf_extractor.py:253\u001b[0m, in \u001b[0;36mprocessPDF\u001b[1;34m(base_dir, pdf_path, extracted_items, local_llm, local_vllm)\u001b[0m\n\u001b[0;32m    249\u001b[0m vllm_model: VLMContextualizer \u001b[38;5;241m=\u001b[39m VLMContextualizer(local_vllm\u001b[38;5;241m=\u001b[39mlocal_vllm)\n\u001b[0;32m    251\u001b[0m \u001b[38;5;66;03m# Extract images and contextualize\u001b[39;00m\n\u001b[0;32m    252\u001b[0m \u001b[38;5;66;03m#########################################\u001b[39;00m\n\u001b[1;32m--> 253\u001b[0m extracted_items \u001b[38;5;241m=\u001b[39m \u001b[43mextractImage\u001b[49m\u001b[43m(\u001b[49m\u001b[43mpage\u001b[49m\u001b[38;5;241;43m=\u001b[39;49m\u001b[43mpage\u001b[49m\u001b[43m,\u001b[49m\n\u001b[0;32m    254\u001b[0m \u001b[43m                               \u001b[49m\u001b[43mbase_dir\u001b[49m\u001b[38;5;241;43m=\u001b[39;49m\u001b[43mbase_dir\u001b[49m\u001b[43m,\u001b[49m\n\u001b[0;32m    255\u001b[0m \u001b[43m                               \u001b[49m\u001b[43mpdf_path\u001b[49m\u001b[38;5;241;43m=\u001b[39;49m\u001b[43mpdf_path\u001b[49m\u001b[43m,\u001b[49m\n\u001b[0;32m    256\u001b[0m \u001b[43m                               \u001b[49m\u001b[43mvllm_model\u001b[49m\u001b[38;5;241;43m=\u001b[39;49m\u001b[43mvllm_model\u001b[49m\u001b[43m,\u001b[49m\n\u001b[0;32m    257\u001b[0m \u001b[43m                               \u001b[49m\u001b[43mextracted_items\u001b[49m\u001b[38;5;241;43m=\u001b[39;49m\u001b[43mextracted_items\u001b[49m\u001b[43m)\u001b[49m\n\u001b[0;32m    259\u001b[0m \u001b[38;5;66;03m# Free memory\u001b[39;00m\n\u001b[0;32m    260\u001b[0m \u001b[38;5;28;01mdel\u001b[39;00m vllm_model\n",
      "File \u001b[1;32mc:\\Users\\pvmod\\InformationProcessingLab\\03_Chatbot\\03_RAG_UV\\ragyphi\\pdf_extractor.py:167\u001b[0m, in \u001b[0;36mextractImage\u001b[1;34m(page, base_dir, pdf_path, vllm_model, extracted_items)\u001b[0m\n\u001b[0;32m    165\u001b[0m page_image: pdfplumber\u001b[38;5;241m.\u001b[39mdisplay\u001b[38;5;241m.\u001b[39mPageImage \u001b[38;5;241m=\u001b[39m page\u001b[38;5;241m.\u001b[39mto_image() \u001b[38;5;66;03m# type: ignore\u001b[39;00m\n\u001b[0;32m    166\u001b[0m \u001b[38;5;66;03m# Get the cropped images from YOLO extractor\u001b[39;00m\n\u001b[1;32m--> 167\u001b[0m extracted_images: \u001b[38;5;28mlist\u001b[39m[Image\u001b[38;5;241m.\u001b[39mImage] \u001b[38;5;241m=\u001b[39m \u001b[43mimage_extractor\u001b[49m\u001b[38;5;241;43m.\u001b[39;49m\u001b[43mget_images\u001b[49m\u001b[43m(\u001b[49m\u001b[43mpage_image\u001b[49m\u001b[38;5;241;43m=\u001b[39;49m\u001b[43mpage_image\u001b[49m\u001b[43m)\u001b[49m \n\u001b[0;32m    169\u001b[0m \u001b[38;5;28;01mif\u001b[39;00m extracted_images:\n\u001b[0;32m    170\u001b[0m     \u001b[38;5;28;01mfor\u001b[39;00m img_id, image \u001b[38;5;129;01min\u001b[39;00m \u001b[38;5;28menumerate\u001b[39m(extracted_images):\n",
      "File \u001b[1;32mc:\\Users\\pvmod\\InformationProcessingLab\\03_Chatbot\\03_RAG_UV\\ragyphi\\image_extractor.py:40\u001b[0m, in \u001b[0;36mget_images\u001b[1;34m(page_image)\u001b[0m\n\u001b[0;32m     38\u001b[0m \u001b[38;5;28;01mdef\u001b[39;00m\u001b[38;5;250m \u001b[39m\u001b[38;5;21mget_images\u001b[39m(page_image: Image\u001b[38;5;241m.\u001b[39mImage) \u001b[38;5;241m-\u001b[39m\u001b[38;5;241m>\u001b[39m \u001b[38;5;28mlist\u001b[39m[Image\u001b[38;5;241m.\u001b[39mImage]:\n\u001b[0;32m     39\u001b[0m     \u001b[38;5;66;03m# Resize the image to YOLO standard (640,640)\u001b[39;00m\n\u001b[1;32m---> 40\u001b[0m     image: np\u001b[38;5;241m.\u001b[39mndarray \u001b[38;5;241m=\u001b[39m \u001b[43mpre_process_image\u001b[49m\u001b[43m(\u001b[49m\u001b[43mpage_image\u001b[49m\u001b[43m)\u001b[49m\n\u001b[0;32m     42\u001b[0m     \u001b[38;5;66;03m# Load and predict with YOLO\u001b[39;00m\n\u001b[0;32m     43\u001b[0m     model_path: \u001b[38;5;28mstr\u001b[39m \u001b[38;5;241m=\u001b[39m os\u001b[38;5;241m.\u001b[39mpath\u001b[38;5;241m.\u001b[39mjoin(\u001b[38;5;124m\"\u001b[39m\u001b[38;5;124mweights\u001b[39m\u001b[38;5;124m\"\u001b[39m,\u001b[38;5;124m\"\u001b[39m\u001b[38;5;124myolo_model.pt\u001b[39m\u001b[38;5;124m\"\u001b[39m)\n",
      "File \u001b[1;32mc:\\Users\\pvmod\\InformationProcessingLab\\03_Chatbot\\03_RAG_UV\\ragyphi\\image_extractor.py:18\u001b[0m, in \u001b[0;36mpre_process_image\u001b[1;34m(page_image)\u001b[0m\n\u001b[0;32m     16\u001b[0m \u001b[38;5;28mprint\u001b[39m(\u001b[38;5;124mf\u001b[39m\u001b[38;5;124m\"\u001b[39m\u001b[38;5;124mimage type: \u001b[39m\u001b[38;5;132;01m{\u001b[39;00m\u001b[38;5;28mtype\u001b[39m(page_image)\u001b[38;5;132;01m}\u001b[39;00m\u001b[38;5;124m\"\u001b[39m)\n\u001b[0;32m     17\u001b[0m \u001b[38;5;66;03m# Resize the image to 640x640 pixels\u001b[39;00m\n\u001b[1;32m---> 18\u001b[0m resized_image: Image\u001b[38;5;241m.\u001b[39mImage \u001b[38;5;241m=\u001b[39m \u001b[43mpage_image\u001b[49m\u001b[38;5;241;43m.\u001b[39;49m\u001b[43mresize\u001b[49m((YOLO_INPUT_SIZE,YOLO_INPUT_SIZE), Image\u001b[38;5;241m.\u001b[39mResampling\u001b[38;5;241m.\u001b[39mLANCZOS)\n\u001b[0;32m     20\u001b[0m \u001b[38;5;66;03m# Convert PIL to array (cv can only process arrays)\u001b[39;00m\n\u001b[0;32m     21\u001b[0m image_array: np\u001b[38;5;241m.\u001b[39mndarray \u001b[38;5;241m=\u001b[39m np\u001b[38;5;241m.\u001b[39marray(resized_image)\n",
      "\u001b[1;31mAttributeError\u001b[0m: 'PageImage' object has no attribute 'resize'"
     ]
    }
   ],
   "source": [
    "# Load data for processing\n",
    "data: rp.ExtractedData = rp.loadData()"
   ]
  },
  {
   "cell_type": "code",
   "execution_count": null,
   "metadata": {},
   "outputs": [],
   "source": [
    "# Initialize the local language model (LLM)\n",
    "local_llm = \"llama3.2:3b-instruct-fp16\" # If you like to use other models pull them with ollama pull first\n",
    "system_prompt = \"You are a helpful assistant capable of answering scientific questions.\"\n",
    "llm = Chatbot(local_llm=local_llm, system_prompt=system_prompt)"
   ]
  },
  {
   "cell_type": "code",
   "execution_count": null,
   "metadata": {},
   "outputs": [],
   "source": [
    "# Define your question and retrieve response using RAG pipeline\n",
    "question = \"your-question-here\"\n",
    "result: rp.LLMResponse = rp.rag(question, data, llm)"
   ]
  },
  {
   "cell_type": "code",
   "execution_count": null,
   "metadata": {},
   "outputs": [],
   "source": [
    "# Print the result and context for review\n",
    "print(\"Response:\", result.response)\n",
    "print(\"Context:\", result.context)"
   ]
  }
 ],
 "metadata": {
  "kernelspec": {
   "display_name": "RAG",
   "language": "python",
   "name": "python3"
  },
  "language_info": {
   "codemirror_mode": {
    "name": "ipython",
    "version": 3
   },
   "file_extension": ".py",
   "mimetype": "text/x-python",
   "name": "python",
   "nbconvert_exporter": "python",
   "pygments_lexer": "ipython3",
   "version": "3.12.8"
  }
 },
 "nbformat": 4,
 "nbformat_minor": 2
}
